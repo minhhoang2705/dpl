{
 "cells": [
  {
   "cell_type": "code",
   "execution_count": null,
   "metadata": {},
   "outputs": [],
   "source": [
    "import cv2\n",
    "import os\n",
    "import time\n",
    "import uuid\n",
    "cap = cv2.VideoCapture(0)\n",
    "SE171070_TRAIN_DIR = os.path.join(\"data\", \"train\", \"SE171070\")\n",
    "SE150905_TRAIN_DIR = os.path.join(\"data\", \"train\", \"SE150905\")\n",
    "\n",
    "detector = cv2.CascadeClassifier(\"haarcascade_frontalface_default.xml\")\n",
    "count = 0\n",
    "num_imgs = 30\n",
    "for image_num in range(num_imgs):\n",
    "    print('Collecting image {}'.format(image_num))\n",
    "    ret, frame = cap.read()\n",
    "    frame = cv2.flip(frame, 1)\n",
    "\n",
    "    gray = cv2.cvtColor(frame, cv2.COLOR_BGR2GRAY)\n",
    "\n",
    "    faces = detector.detectMultiScale(\n",
    "        gray, scaleFactor=1.05, minNeighbors=8, minSize=(30, 30)\n",
    "    )\n",
    "    print(\"Found {} faces.\".format(len(faces)))\n",
    "    for (x, y, w, h) in faces: \n",
    "        scale = 5\n",
    "        roi = frame[y - scale: y + h + scale, x - scale: x + w + scale]\n",
    "        img_name = os.path.join(SE171070_TRAIN_DIR, f'{str(uuid.uuid1())}.jpg')\n",
    "        cv2.imwrite(img_name, frame[y - scale: y + h + scale, x - scale: x + w + scale])\n",
    "        cv2.imshow(\"My Face detection\", frame)\n",
    "        time.sleep(0.5)\n",
    "        cv2.rectangle(frame, (x, y), (x + w, y + h), (0, 255, 0), 2)\n",
    "    \n",
    "    if cv2.waitKey(1) & 0xFF ==ord(\"q\"):\n",
    "        break\n",
    "\n",
    "cap.release()\n",
    "cv2.destroyAllWindows()\n"
   ]
  },
  {
   "cell_type": "code",
   "execution_count": 28,
   "metadata": {},
   "outputs": [],
   "source": [
    "import cv2 \n",
    "import imghdr\n",
    "import os"
   ]
  },
  {
   "cell_type": "code",
   "execution_count": 29,
   "metadata": {},
   "outputs": [],
   "source": [
    "data_dir = 'data\\\\train'"
   ]
  },
  {
   "cell_type": "code",
   "execution_count": 30,
   "metadata": {},
   "outputs": [],
   "source": [
    "image_ext = ['jpeg','jpg', 'bmp', 'png']"
   ]
  },
  {
   "cell_type": "code",
   "execution_count": 31,
   "metadata": {},
   "outputs": [
    {
     "name": "stdout",
     "output_type": "stream",
     "text": [
      "images\n",
      "labels\n"
     ]
    }
   ],
   "source": [
    "for image_class in os.listdir(data_dir):\n",
    "    print(image_class)"
   ]
  },
  {
   "cell_type": "code",
   "execution_count": 32,
   "metadata": {},
   "outputs": [
    {
     "name": "stdout",
     "output_type": "stream",
     "text": [
      "Issue with image data\\train\\images\\08d756a32489a084953e58bc7cf036bc.jpg\n",
      "Issue with image data\\train\\images\\189512725a96c5bb9e4b5f3ae3eddff6.jpg\n",
      "Issue with image data\\train\\images\\1b37ab96-ff6c-11ed-a424-744ca1dac874.0.jpg\n",
      "Issue with image data\\train\\images\\1b37ab96-ff6c-11ed-a424-744ca1dac874.1.jpg\n",
      "Issue with image data\\train\\images\\1b37ab96-ff6c-11ed-a424-744ca1dac874.10.jpg\n",
      "Issue with image data\\train\\images\\1b37ab96-ff6c-11ed-a424-744ca1dac874.11.jpg\n",
      "Issue with image data\\train\\images\\1b37ab96-ff6c-11ed-a424-744ca1dac874.12.jpg\n",
      "Issue with image data\\train\\images\\1b37ab96-ff6c-11ed-a424-744ca1dac874.13.jpg\n",
      "Issue with image data\\train\\images\\1b37ab96-ff6c-11ed-a424-744ca1dac874.14.jpg\n",
      "Issue with image data\\train\\images\\1b37ab96-ff6c-11ed-a424-744ca1dac874.15.jpg\n",
      "Issue with image data\\train\\images\\1b37ab96-ff6c-11ed-a424-744ca1dac874.16.jpg\n",
      "Issue with image data\\train\\images\\1b37ab96-ff6c-11ed-a424-744ca1dac874.19.jpg\n",
      "Issue with image data\\train\\images\\1b37ab96-ff6c-11ed-a424-744ca1dac874.20.jpg\n",
      "Issue with image data\\train\\images\\1b37ab96-ff6c-11ed-a424-744ca1dac874.23.jpg\n",
      "Issue with image data\\train\\images\\1b37ab96-ff6c-11ed-a424-744ca1dac874.24.jpg\n",
      "Issue with image data\\train\\images\\1b37ab96-ff6c-11ed-a424-744ca1dac874.25.jpg\n",
      "Issue with image data\\train\\images\\1b37ab96-ff6c-11ed-a424-744ca1dac874.27.jpg\n",
      "Issue with image data\\train\\images\\1b37ab96-ff6c-11ed-a424-744ca1dac874.28.jpg\n",
      "Issue with image data\\train\\images\\1b37ab96-ff6c-11ed-a424-744ca1dac874.3.jpg\n",
      "Issue with image data\\train\\images\\1b37ab96-ff6c-11ed-a424-744ca1dac874.4.jpg\n",
      "Issue with image data\\train\\images\\1b37ab96-ff6c-11ed-a424-744ca1dac874.5.jpg\n",
      "Issue with image data\\train\\images\\1b37ab96-ff6c-11ed-a424-744ca1dac874.6.jpg\n",
      "Issue with image data\\train\\images\\1b37ab96-ff6c-11ed-a424-744ca1dac874.8.jpg\n",
      "Issue with image data\\train\\images\\1f00edec52ec9728b13c457f41bda5db.jpg\n",
      "Issue with image data\\train\\images\\2df4b0f71df5d3ba2439cf2c16ffb7b0.jpg\n",
      "Issue with image data\\train\\images\\2e8cde325bc31a7caf9530c943ed9c2b.jpg\n",
      "Issue with image data\\train\\images\\34082998308856f1466786e2388bbc95.jpg\n",
      "Issue with image data\\train\\images\\39fba30dd301443325e768c0d1303330.jpg\n",
      "Issue with image data\\train\\images\\569dd26a568b4e3394046393c46fe215.jpg\n",
      "Issue with image data\\train\\images\\5f8f7a51fe542cf8043ebbffa4244567.jpg\n",
      "Issue with image data\\train\\images\\659712e15eacf2c2db86b23fe94c04fb.jpg\n",
      "Issue with image data\\train\\images\\7691b3d2246f876f793d275ad19880be.jpg\n",
      "Issue with image data\\train\\images\\89f4abb58c78c1127531324f358f004e.png\n",
      "Issue with image data\\train\\images\\8b66300f42649802b68d457026131109.jpg\n",
      "Issue with image data\\train\\images\\9343d4775a6e860c1c7fb7ce25b1fc48.jpg\n",
      "Issue with image data\\train\\images\\b0188fa2ab6362390fb1259054e95700.jpg\n",
      "Issue with image data\\train\\images\\b84a2e5a35876038edc51bd660b373bd.png\n",
      "Issue with image data\\train\\images\\e122541cac3959f80e86bfdf56ff2493.jpg\n",
      "Issue with image data\\train\\images\\e4b5b58c2906e3658f90b2157fd0a1ea.jpg\n",
      "Issue with image data\\train\\images\\e6e81986-35e2-4851-8a2e-df159df84a5c.jpg\n",
      "Issue with image data\\train\\images\\e90953d6656a2506c4d16e614f38de91.jpg\n",
      "Issue with image data\\train\\images\\e9989e13317108e0b735fefc39adaeb8.jpg\n",
      "Issue with image data\\train\\images\\f62a2fd0fc7ccf6668fc9bec105a5e0d.jpg\n",
      "Issue with image data\\train\\images\\images.jpg\n",
      "Issue with image data\\train\\images\\images11.jpg\n",
      "Issue with image data\\train\\images\\images12.jpg\n",
      "Issue with image data\\train\\images\\images13.jpg\n",
      "Issue with image data\\train\\images\\images14.jpg\n",
      "Issue with image data\\train\\images\\images15.jpg\n",
      "Issue with image data\\train\\images\\images16.jpg\n",
      "Issue with image data\\train\\images\\images17.jpg\n",
      "Issue with image data\\train\\images\\images18.jpg\n",
      "Issue with image data\\train\\images\\images2.jpg\n",
      "Issue with image data\\train\\images\\images20.jpg\n",
      "Issue with image data\\train\\images\\images21.jpg\n",
      "Issue with image data\\train\\images\\images24.jpg\n",
      "Issue with image data\\train\\images\\images25.jpg\n",
      "Issue with image data\\train\\images\\images26.jpg\n",
      "Issue with image data\\train\\images\\images29.jpg\n",
      "Issue with image data\\train\\images\\images3.jpg\n",
      "Issue with image data\\train\\images\\images4.jpg\n",
      "Issue with image data\\train\\images\\images5.jpg\n",
      "Issue with image data\\train\\images\\images6.jpg\n",
      "Issue with image data\\train\\images\\images7.jpg\n",
      "Issue with image data\\train\\images\\images8.jpg\n",
      "Issue with image data\\train\\images\\lionelmessi-230507-looksg1050.jpg\n",
      "Issue with image data\\train\\images\\Lionel_Messi.jpg\n",
      "Issue with image data\\train\\images\\messi-hair.jpg\n",
      "Issue with image data\\train\\images\\Messi-Lionel-640-20140714034150877.jpg\n",
      "Issue with image data\\train\\images\\Neymar-12.jpg\n",
      "Issue with image data\\train\\images\\Neymar-abused.jpg\n",
      "Issue with image data\\train\\images\\Neymar2.jpg\n",
      "Issue with image data\\train\\labels\\08d756a32489a084953e58bc7cf036bc.json\n",
      "Issue with image data\\train\\labels\\0edc1775e10035a9a2c98d7edbb295a0.json\n",
      "Issue with image data\\train\\labels\\189512725a96c5bb9e4b5f3ae3eddff6.json\n",
      "Issue with image data\\train\\labels\\1b37ab96-ff6c-11ed-a424-744ca1dac874.0.json\n",
      "Issue with image data\\train\\labels\\1b37ab96-ff6c-11ed-a424-744ca1dac874.1.json\n",
      "Issue with image data\\train\\labels\\1b37ab96-ff6c-11ed-a424-744ca1dac874.10.json\n",
      "Issue with image data\\train\\labels\\1b37ab96-ff6c-11ed-a424-744ca1dac874.11.json\n",
      "Issue with image data\\train\\labels\\1b37ab96-ff6c-11ed-a424-744ca1dac874.12.json\n",
      "Issue with image data\\train\\labels\\1b37ab96-ff6c-11ed-a424-744ca1dac874.13.json\n",
      "Issue with image data\\train\\labels\\1b37ab96-ff6c-11ed-a424-744ca1dac874.14.json\n",
      "Issue with image data\\train\\labels\\1b37ab96-ff6c-11ed-a424-744ca1dac874.15.json\n",
      "Issue with image data\\train\\labels\\1b37ab96-ff6c-11ed-a424-744ca1dac874.16.json\n",
      "Issue with image data\\train\\labels\\1b37ab96-ff6c-11ed-a424-744ca1dac874.17.json\n",
      "Issue with image data\\train\\labels\\1b37ab96-ff6c-11ed-a424-744ca1dac874.18.json\n",
      "Issue with image data\\train\\labels\\1b37ab96-ff6c-11ed-a424-744ca1dac874.19.json\n",
      "Issue with image data\\train\\labels\\1b37ab96-ff6c-11ed-a424-744ca1dac874.2.json\n",
      "Issue with image data\\train\\labels\\1b37ab96-ff6c-11ed-a424-744ca1dac874.20.json\n",
      "Issue with image data\\train\\labels\\1b37ab96-ff6c-11ed-a424-744ca1dac874.21.json\n",
      "Issue with image data\\train\\labels\\1b37ab96-ff6c-11ed-a424-744ca1dac874.22.json\n",
      "Issue with image data\\train\\labels\\1b37ab96-ff6c-11ed-a424-744ca1dac874.23.json\n",
      "Issue with image data\\train\\labels\\1b37ab96-ff6c-11ed-a424-744ca1dac874.24.json\n",
      "Issue with image data\\train\\labels\\1b37ab96-ff6c-11ed-a424-744ca1dac874.25.json\n",
      "Issue with image data\\train\\labels\\1b37ab96-ff6c-11ed-a424-744ca1dac874.26.json\n",
      "Issue with image data\\train\\labels\\1b37ab96-ff6c-11ed-a424-744ca1dac874.27.json\n",
      "Issue with image data\\train\\labels\\1b37ab96-ff6c-11ed-a424-744ca1dac874.28.json\n",
      "Issue with image data\\train\\labels\\1b37ab96-ff6c-11ed-a424-744ca1dac874.29.json\n",
      "Issue with image data\\train\\labels\\1b37ab96-ff6c-11ed-a424-744ca1dac874.3.json\n",
      "Issue with image data\\train\\labels\\1b37ab96-ff6c-11ed-a424-744ca1dac874.4.json\n",
      "Issue with image data\\train\\labels\\1b37ab96-ff6c-11ed-a424-744ca1dac874.5.json\n",
      "Issue with image data\\train\\labels\\1b37ab96-ff6c-11ed-a424-744ca1dac874.6.json\n",
      "Issue with image data\\train\\labels\\1b37ab96-ff6c-11ed-a424-744ca1dac874.7.json\n",
      "Issue with image data\\train\\labels\\1b37ab96-ff6c-11ed-a424-744ca1dac874.8.json\n",
      "Issue with image data\\train\\labels\\1b37ab96-ff6c-11ed-a424-744ca1dac874.9.json\n",
      "Issue with image data\\train\\labels\\1f00edec52ec9728b13c457f41bda5db.json\n",
      "Issue with image data\\train\\labels\\2df4b0f71df5d3ba2439cf2c16ffb7b0.json\n",
      "Issue with image data\\train\\labels\\2e8cde325bc31a7caf9530c943ed9c2b.json\n",
      "Issue with image data\\train\\labels\\39fba30dd301443325e768c0d1303330.json\n",
      "Issue with image data\\train\\labels\\3e33eecfbd9696ca9321a15179a2f43e.json\n",
      "Issue with image data\\train\\labels\\44cfa4a0762a8d9ff335f6ae60e05e1b.json\n",
      "Issue with image data\\train\\labels\\569dd26a568b4e3394046393c46fe215.json\n",
      "Issue with image data\\train\\labels\\5f8f7a51fe542cf8043ebbffa4244567.json\n",
      "Issue with image data\\train\\labels\\659712e15eacf2c2db86b23fe94c04fb.json\n",
      "Issue with image data\\train\\labels\\7691b3d2246f876f793d275ad19880be.json\n",
      "Issue with image data\\train\\labels\\84b1b0163655dd5e3ef76bf82f3ac51f.json\n",
      "Issue with image data\\train\\labels\\870676f5defca5c8b75e89ebf3343d2f.json\n",
      "Issue with image data\\train\\labels\\89f4abb58c78c1127531324f358f004e.json\n",
      "Issue with image data\\train\\labels\\8b66300f42649802b68d457026131109.json\n",
      "Issue with image data\\train\\labels\\9343d4775a6e860c1c7fb7ce25b1fc48.json\n",
      "Issue with image data\\train\\labels\\a3ac57a05ead58187633c9a4c7e714b4.json\n",
      "Issue with image data\\train\\labels\\b0188fa2ab6362390fb1259054e95700.json\n",
      "Issue with image data\\train\\labels\\b84a2e5a35876038edc51bd660b373bd.json\n",
      "Issue with image data\\train\\labels\\d9a81db3cff3801070a65a35d409d25f.json\n",
      "Issue with image data\\train\\labels\\dfa499a5a5904ed6bffb23c167d8b05c.json\n",
      "Issue with image data\\train\\labels\\e122541cac3959f80e86bfdf56ff2493.json\n",
      "Issue with image data\\train\\labels\\e4a719f11511ffd4d504fd84ef2d1a9546943920.json\n",
      "Issue with image data\\train\\labels\\e4b5b58c2906e3658f90b2157fd0a1ea.json\n",
      "Issue with image data\\train\\labels\\e6e81986-35e2-4851-8a2e-df159df84a5c.json\n",
      "Issue with image data\\train\\labels\\e90953d6656a2506c4d16e614f38de91.json\n",
      "Issue with image data\\train\\labels\\e9989e13317108e0b735fefc39adaeb8.json\n",
      "Issue with image data\\train\\labels\\f0edd5ff10a85959c8187bd7a73ca929.json\n",
      "Issue with image data\\train\\labels\\f62a2fd0fc7ccf6668fc9bec105a5e0d.json\n",
      "Issue with image data\\train\\labels\\images.json\n",
      "Issue with image data\\train\\labels\\images10.json\n",
      "Issue with image data\\train\\labels\\images11.json\n",
      "Issue with image data\\train\\labels\\images12.json\n",
      "Issue with image data\\train\\labels\\images13.json\n",
      "Issue with image data\\train\\labels\\images14.json\n",
      "Issue with image data\\train\\labels\\images15.json\n",
      "Issue with image data\\train\\labels\\images16.json\n",
      "Issue with image data\\train\\labels\\images17.json\n",
      "Issue with image data\\train\\labels\\images18.json\n",
      "Issue with image data\\train\\labels\\images19.json\n",
      "Issue with image data\\train\\labels\\images2.json\n",
      "Issue with image data\\train\\labels\\images20.json\n",
      "Issue with image data\\train\\labels\\images21.json\n",
      "Issue with image data\\train\\labels\\images22.json\n",
      "Issue with image data\\train\\labels\\images24.json\n",
      "Issue with image data\\train\\labels\\images25.json\n",
      "Issue with image data\\train\\labels\\images26.json\n",
      "Issue with image data\\train\\labels\\images27.json\n",
      "Issue with image data\\train\\labels\\images29.json\n",
      "Issue with image data\\train\\labels\\images3.json\n",
      "Issue with image data\\train\\labels\\images4.json\n",
      "Issue with image data\\train\\labels\\images5.json\n",
      "Issue with image data\\train\\labels\\images6.json\n",
      "Issue with image data\\train\\labels\\images7.json\n",
      "Issue with image data\\train\\labels\\images8.json\n",
      "Issue with image data\\train\\labels\\images9.json\n",
      "Issue with image data\\train\\labels\\Lionel-Messi-4.json\n",
      "Issue with image data\\train\\labels\\lionel-messi.json\n",
      "Issue with image data\\train\\labels\\lionelmessi-230507-looksg1050.json\n",
      "Issue with image data\\train\\labels\\Lionel_Messi.json\n",
      "Issue with image data\\train\\labels\\messi-hair.json\n",
      "Issue with image data\\train\\labels\\Messi-Lionel-640-20140714034150877.json\n",
      "Issue with image data\\train\\labels\\Neymar-12.json\n",
      "Issue with image data\\train\\labels\\Neymar-abused.json\n",
      "Issue with image data\\train\\labels\\Neymar2.json\n",
      "Issue with image data\\train\\labels\\Neymar3.json\n",
      "Issue with image data\\train\\labels\\Neymar4.json\n"
     ]
    }
   ],
   "source": [
    "for image_class in os.listdir(data_dir): \n",
    "    for image in os.listdir(os.path.join(data_dir, image_class)):\n",
    "        image_path = os.path.join(data_dir, image_class, image)\n",
    "        try: \n",
    "            img = cv2.imread(image_path)\n",
    "            tip = imghdr.what(image_path)\n",
    "            if tip not in image_exts: \n",
    "                print('Image not in ext list {}'.format(image_path))\n",
    "                os.remove(image_path)\n",
    "        except Exception as e: \n",
    "            print('Issue with image {}'.format(image_path))\n",
    "            # os.remove(image_path)"
   ]
  },
  {
   "cell_type": "code",
   "execution_count": 33,
   "metadata": {},
   "outputs": [],
   "source": [
    "import tensorflow as tf"
   ]
  },
  {
   "cell_type": "code",
   "execution_count": 34,
   "metadata": {},
   "outputs": [
    {
     "data": {
      "text/plain": [
       "[PhysicalDevice(name='/physical_device:GPU:0', device_type='GPU')]"
      ]
     },
     "execution_count": 34,
     "metadata": {},
     "output_type": "execute_result"
    }
   ],
   "source": [
    "tf.config.list_physical_devices('GPU')"
   ]
  },
  {
   "cell_type": "code",
   "execution_count": 35,
   "metadata": {},
   "outputs": [],
   "source": [
    "images = tf.data.Dataset.list_files('data\\\\train\\\\images\\\\*.jpg')"
   ]
  },
  {
   "cell_type": "code",
   "execution_count": 36,
   "metadata": {},
   "outputs": [
    {
     "data": {
      "text/plain": [
       "b'data\\\\train\\\\images\\\\b0188fa2ab6362390fb1259054e95700.jpg'"
      ]
     },
     "execution_count": 36,
     "metadata": {},
     "output_type": "execute_result"
    }
   ],
   "source": [
    "images.as_numpy_iterator().next()"
   ]
  },
  {
   "cell_type": "code",
   "execution_count": 37,
   "metadata": {},
   "outputs": [
    {
     "data": {
      "text/plain": [
       "tensorflow.python.data.ops.dataset_ops.ShuffleDataset"
      ]
     },
     "execution_count": 37,
     "metadata": {},
     "output_type": "execute_result"
    }
   ],
   "source": [
    "type(images)"
   ]
  },
  {
   "cell_type": "code",
   "execution_count": 38,
   "metadata": {},
   "outputs": [],
   "source": [
    "def load_image(x): \n",
    "    byte_img = tf.io.read_file(x)\n",
    "    img = tf.io.decode_jpeg(byte_img)\n",
    "    return img"
   ]
  },
  {
   "cell_type": "code",
   "execution_count": 39,
   "metadata": {},
   "outputs": [],
   "source": [
    "images = images.map(load_image)"
   ]
  },
  {
   "cell_type": "code",
   "execution_count": 40,
   "metadata": {},
   "outputs": [
    {
     "data": {
      "text/plain": [
       "array([[[ 28,  30,  45],\n",
       "        [ 28,  30,  45],\n",
       "        [ 28,  30,  45],\n",
       "        ...,\n",
       "        [ 25,  27,  42],\n",
       "        [ 25,  27,  42],\n",
       "        [ 25,  27,  42]],\n",
       "\n",
       "       [[ 28,  30,  45],\n",
       "        [ 28,  30,  45],\n",
       "        [ 28,  30,  45],\n",
       "        ...,\n",
       "        [ 25,  27,  42],\n",
       "        [ 25,  27,  42],\n",
       "        [ 25,  27,  42]],\n",
       "\n",
       "       [[ 28,  30,  45],\n",
       "        [ 28,  30,  45],\n",
       "        [ 28,  30,  45],\n",
       "        ...,\n",
       "        [ 25,  27,  42],\n",
       "        [ 25,  27,  42],\n",
       "        [ 25,  27,  42]],\n",
       "\n",
       "       ...,\n",
       "\n",
       "       [[230, 220, 245],\n",
       "        [230, 220, 245],\n",
       "        [231, 221, 246],\n",
       "        ...,\n",
       "        [242, 238, 255],\n",
       "        [242, 238, 255],\n",
       "        [242, 238, 255]],\n",
       "\n",
       "       [[230, 220, 245],\n",
       "        [230, 220, 245],\n",
       "        [231, 221, 246],\n",
       "        ...,\n",
       "        [242, 238, 255],\n",
       "        [242, 238, 255],\n",
       "        [242, 238, 255]],\n",
       "\n",
       "       [[230, 220, 245],\n",
       "        [230, 220, 245],\n",
       "        [231, 221, 246],\n",
       "        ...,\n",
       "        [242, 238, 255],\n",
       "        [242, 238, 255],\n",
       "        [242, 238, 255]]], dtype=uint8)"
      ]
     },
     "execution_count": 40,
     "metadata": {},
     "output_type": "execute_result"
    }
   ],
   "source": [
    "images.as_numpy_iterator().next()"
   ]
  },
  {
   "cell_type": "code",
   "execution_count": null,
   "metadata": {},
   "outputs": [],
   "source": [
    "image_gen = images.batch(4).as_numpy_iterator()"
   ]
  },
  {
   "cell_type": "code",
   "execution_count": null,
   "metadata": {},
   "outputs": [],
   "source": [
    "plot_images = image_gen.next()"
   ]
  },
  {
   "cell_type": "code",
   "execution_count": null,
   "metadata": {},
   "outputs": [],
   "source": [
    "30 * .7"
   ]
  },
  {
   "cell_type": "code",
   "execution_count": null,
   "metadata": {},
   "outputs": [],
   "source": [
    "30 * .15"
   ]
  },
  {
   "cell_type": "code",
   "execution_count": null,
   "metadata": {},
   "outputs": [],
   "source": [
    "for folder in ['train', 'test', 'val']:\n",
    "    for file in os.listdir(os.path.join('data', folder, 'images')):\n",
    "        filename = file.split('.')[0] + '.json'\n",
    "        existing_filepath = os.path.join('data', 'labels', filename)\n",
    "        if os.path.exists(existing_filepath):\n",
    "            new_filepath = os.path.join('data', 'folder', 'labels', filename)\n",
    "            os.replace(existing_filepath, new_filepath)"
   ]
  },
  {
   "cell_type": "code",
   "execution_count": null,
   "metadata": {},
   "outputs": [],
   "source": []
  }
 ],
 "metadata": {
  "kernelspec": {
   "display_name": "base",
   "language": "python",
   "name": "python3"
  },
  "language_info": {
   "codemirror_mode": {
    "name": "ipython",
    "version": 3
   },
   "file_extension": ".py",
   "mimetype": "text/x-python",
   "name": "python",
   "nbconvert_exporter": "python",
   "pygments_lexer": "ipython3",
   "version": "3.10.11"
  },
  "orig_nbformat": 4
 },
 "nbformat": 4,
 "nbformat_minor": 2
}
